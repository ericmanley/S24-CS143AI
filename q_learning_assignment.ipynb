{
 "cells": [
  {
   "cell_type": "markdown",
   "id": "160a225a",
   "metadata": {},
   "source": [
    "# Q-Learning Assignment\n",
    "\n",
    "[![Open In Colab](https://colab.research.google.com/assets/colab-badge.svg)](https://colab.research.google.com/github/ericmanley/S24-CS143AI/blob/main/q_learning_assignment.ipynb)\n",
    "\n",
    "After completing the Q-Learning Implementation Lab, you should have Q-Learning working in the Frozen Lake Gymnasium environment. For the assignment, you need to get it working on one other Gymnasium environment - I suggest one of the other three Toy Text environments: https://gymnasium.farama.org/environments/toy_text/\n",
    "\n",
    "You also need to come up with a way to evaluate how well your Q-Learning agent performs (e.g., totaling up rewards, counting the number of times it succeeds in the scenario, etc.). You should test your implementation and compare it with the always-choose-random-actions policy (i.e., no Q-Learning). \n",
    "\n",
    "When you turn it in, include your code and the results of your experiments showing as output in your notebook.\n",
    "\n",
    "## Questions to respond to in a text/markdown cell\n",
    "\n",
    "* What environment did you work on? How is it different than Frozen Lake?\n",
    "* Did you have to do anything different than you did in Frozen Lake to get it to work successfully?\n",
    "* Describe the results of your experiment - how did it perform compared to the always-choose-random-actions policy?\n",
    "\n",
    "\n",
    "## Grading\n",
    "\n",
    "The assignment will be worth 8 points.\n",
    "\n",
    "* You can get up to 1 point if you turn in the starter notebook from q_learning_implementation_lab.ipynb and you ran all the code yourself. Create a markdown cell at the top where you explain that's what you did.\n",
    "* You can get up to 4 points if you did the exercises from the starter notebook and have a working version of Q-Learning for Gridworld\n",
    "* You can get up to 6 points if you have a working version of Q-Learning for Frozen Lake based on the starter notebook.\n",
    "* You can get up to 7 points if you have a working version of Q-Learning on another environment.\n",
    "* You can get up to 8 points if you have a working version of Q-Learning on another environment, you evaluated how well it performed, and you answered all the required questions.\n",
    "* You can get up to 9 points (extra credit!) if you adapt our Q-Learning implementation for a continuous observation space (like Lunar Lander or Cart Pole), you evaluate how well it performed, and you answered all the required questions. For this one, it's ok if the algorithm isn't \"successful\" as long as you implement a reasonable approach.\n",
    "\n",
    "## Turning it in\n",
    "\n",
    "You should submit your Jupyter Notebook to the handin form on Blackboard. You can either submit a link to a shared version of your notebook from Google Colab (make it sharable so that anyone with the link can view it) or you can directly attach the .ipynb file to the handin form.\n"
   ]
  }
 ],
 "metadata": {
  "kernelspec": {
   "display_name": "Python 3 (ipykernel)",
   "language": "python",
   "name": "python3"
  },
  "language_info": {
   "codemirror_mode": {
    "name": "ipython",
    "version": 3
   },
   "file_extension": ".py",
   "mimetype": "text/x-python",
   "name": "python",
   "nbconvert_exporter": "python",
   "pygments_lexer": "ipython3",
   "version": "3.10.6"
  }
 },
 "nbformat": 4,
 "nbformat_minor": 5
}
