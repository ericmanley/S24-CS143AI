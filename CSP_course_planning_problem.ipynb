{
 "cells": [
  {
   "cell_type": "markdown",
   "id": "5568f836",
   "metadata": {},
   "source": [
    "# CSP Planning for the Course Planning Problem\n",
    "\n",
    "[![Open In Colab](https://colab.research.google.com/assets/colab-badge.svg)](https://colab.research.google.com/github/ericmanley/S24-CS143AI/blob/main/CSP_course_planning_problem.ipynb)\n",
    "\n",
    "Every student needs to plan ahead to make sure that they will be able to fulfill all of their graduation requirements. For our next project, we'll attempt to formulate this *custom 4-year plan* problem as a Constrain Satisfaction Problem. \n",
    "\n",
    "To start, we will discuss challenges presented by this problem and ideas of how they can be overcome. This notebook merely shows you how to access the data that you'll use when you do the project."
   ]
  },
  {
   "cell_type": "markdown",
   "id": "776b6945",
   "metadata": {},
   "source": [
    "To start, install the `requests` library to access data via a URL. If you will be using this notebook to start your CSP formulation, you will also need to install `python-constraint`."
   ]
  },
  {
   "cell_type": "code",
   "execution_count": null,
   "id": "6f7a0e41",
   "metadata": {},
   "outputs": [],
   "source": [
    "import sys\n",
    "\n",
    "!{sys.executable} -m pip install python-constraint\n",
    "!{sys.executable} -m pip install requests"
   ]
  },
  {
   "cell_type": "markdown",
   "id": "b803859c",
   "metadata": {},
   "source": [
    "## Data hosted on GitHub\n",
    "\n",
    "The data we'll use is hosted on GitHub at the following URLs. Take a moment and copy-and-paste these into your browser to see what the files look like.\n",
    "\n",
    "If you prefer, you could just download these files and access them locally with the normal Python file IO tools, like `open(\"course_rotation.json\",\"r\")`. The URLs are meant to make it easy for us to all share the same files and make changes if needed."
   ]
  },
  {
   "cell_type": "code",
   "execution_count": 1,
   "id": "89b42993",
   "metadata": {},
   "outputs": [],
   "source": [
    "import requests\n",
    "import json\n",
    "\n",
    "course_rotation_url = 'https://raw.githubusercontent.com/ericmanley/S24-CS143AI/main/data/course_rotation.json'\n",
    "cs_requirements_url = 'https://raw.githubusercontent.com/ericmanley/S24-CS143AI/main/data/cs_major_requirements.json'\n",
    "prerequisites_url = 'https://raw.githubusercontent.com/ericmanley/S24-CS143AI/main/data/prerequisites_simplified.json'"
   ]
  },
  {
   "cell_type": "markdown",
   "id": "3ea8a234",
   "metadata": {},
   "source": [
    "## Course Rotation Data\n",
    "\n",
    "The course rotation data is a list of dictionaries. Each dictionary has two keys:\n",
    "* `'course'` - this is the course/number for a real course at Drake\n",
    "* `'terms_offered'` - this a list of upcoming terms when the course is likely to be offered\n",
    "    - 202505 means Summer of 2024 (academic year 2025 runs Summer 2024 through Spring 2025)\n",
    "    - 202510 means Fall 2024\n",
    "    - 202515 means January 2025\n",
    "    - 202520 means Spring 2025"
   ]
  },
  {
   "cell_type": "code",
   "execution_count": 6,
   "id": "a6d5c4b4",
   "metadata": {},
   "outputs": [
    {
     "data": {
      "text/plain": [
       "[{'course': 'CS 065',\n",
       "  'terms_offered': [202510,\n",
       "   202520,\n",
       "   202610,\n",
       "   202620,\n",
       "   202710,\n",
       "   202720,\n",
       "   202810,\n",
       "   202820]},\n",
       " {'course': 'CS 066',\n",
       "  'terms_offered': [202510,\n",
       "   202520,\n",
       "   202610,\n",
       "   202620,\n",
       "   202710,\n",
       "   202720,\n",
       "   202810,\n",
       "   202820]},\n",
       " {'course': 'CS 067',\n",
       "  'terms_offered': [202510,\n",
       "   202520,\n",
       "   202610,\n",
       "   202620,\n",
       "   202710,\n",
       "   202720,\n",
       "   202810,\n",
       "   202820]},\n",
       " {'course': 'CS 083',\n",
       "  'terms_offered': [202510,\n",
       "   202515,\n",
       "   202520,\n",
       "   202610,\n",
       "   202615,\n",
       "   202620,\n",
       "   202710,\n",
       "   202715,\n",
       "   202720,\n",
       "   202810,\n",
       "   202815,\n",
       "   202820]},\n",
       " {'course': 'CS 120', 'terms_offered': [202520, 202620, 202720, 202820]},\n",
       " {'course': 'CS 130', 'terms_offered': [202510, 202610, 202710, 202810]},\n",
       " {'course': 'CS 135', 'terms_offered': [202620, 202820]},\n",
       " {'course': 'CS 137', 'terms_offered': [202510, 202610, 202710, 202810]},\n",
       " {'course': 'CS 139', 'terms_offered': [202620, 202820]},\n",
       " {'course': 'CS 143', 'terms_offered': [202520, 202620, 202720, 202820]},\n",
       " {'course': 'CS 150', 'terms_offered': [202520, 202720]},\n",
       " {'course': 'CS 160', 'terms_offered': [202520, 202720]},\n",
       " {'course': 'CS 165', 'terms_offered': [202620, 202820]},\n",
       " {'course': 'CS 167',\n",
       "  'terms_offered': [202510,\n",
       "   202520,\n",
       "   202610,\n",
       "   202620,\n",
       "   202710,\n",
       "   202720,\n",
       "   202810,\n",
       "   202820]},\n",
       " {'course': 'CS 178', 'terms_offered': [202520, 202620, 202720, 202820]},\n",
       " {'course': 'CS 188',\n",
       "  'terms_offered': [202510,\n",
       "   202520,\n",
       "   202610,\n",
       "   202620,\n",
       "   202710,\n",
       "   202720,\n",
       "   202810,\n",
       "   202820]},\n",
       " {'course': 'CS 191', 'terms_offered': [202520, 202620, 202720, 202820]},\n",
       " {'course': 'MATH 054', 'terms_offered': [202510, 202610, 202710, 202810]},\n",
       " {'course': 'MATH 050',\n",
       "  'terms_offered': [202510,\n",
       "   202520,\n",
       "   202610,\n",
       "   202620,\n",
       "   202710,\n",
       "   202720,\n",
       "   202810,\n",
       "   202820]}]"
      ]
     },
     "execution_count": 6,
     "metadata": {},
     "output_type": "execute_result"
    }
   ],
   "source": [
    "course_rotation_data = requests.get(course_rotation_url).json()\n",
    "course_rotation_data"
   ]
  },
  {
   "cell_type": "markdown",
   "id": "6860c2de",
   "metadata": {},
   "source": [
    "## CS Major Requirements\n",
    "\n",
    "This data is also a list of dictionaries. Each dictionary has three keys:\n",
    "* `'requirement_name'` - this is just a way to identify each requirement. In cases where the requirement is a specific course, it might have the same name as a course (e.g., `'CS 065'`). Sometimes, there are options, like the CS requirement that you take either Math 54 or Math 100 - I've given that the name `'Math Proof'`.\n",
    "* `'courses'` - this is the list of courses that can fulfill this requirement (e.g., `['MATH 054', 'MATH 101']` for the `'Math Proof'` requirement).\n",
    "* `'num_required'` - this is the number of courses from the `'courses'` list that students are required to take. Most requirements only need 1 course, but some are lists of electives like `'Upper Division Component'` in which you need to take 5 from the list."
   ]
  },
  {
   "cell_type": "code",
   "execution_count": 8,
   "id": "abb1a6f3",
   "metadata": {},
   "outputs": [
    {
     "data": {
      "text/plain": [
       "[{'requirement_name': 'CS 065', 'num_required': 1, 'courses': ['CS 065']},\n",
       " {'requirement_name': 'CS 066', 'num_required': 1, 'courses': ['CS 066']},\n",
       " {'requirement_name': 'CS 067', 'num_required': 1, 'courses': ['CS 067']},\n",
       " {'requirement_name': 'CS 083', 'num_required': 1, 'courses': ['CS 083']},\n",
       " {'requirement_name': 'CS 130', 'num_required': 1, 'courses': ['CS 130']},\n",
       " {'requirement_name': 'CS 137', 'num_required': 1, 'courses': ['CS 137']},\n",
       " {'requirement_name': 'CS 188', 'num_required': 1, 'courses': ['CS 188']},\n",
       " {'requirement_name': 'CS 191', 'num_required': 1, 'courses': ['CS 191']},\n",
       " {'requirement_name': 'MATH 050', 'num_required': 1, 'courses': ['MATH 050']},\n",
       " {'requirement_name': 'Math Proof',\n",
       "  'num_required': 1,\n",
       "  'courses': ['MATH 054', 'MATH 101']},\n",
       " {'requirement_name': 'Upper Division Component',\n",
       "  'num_required': 5,\n",
       "  'courses': ['CS 114',\n",
       "   'CS 116',\n",
       "   'CS 128',\n",
       "   'CS 135',\n",
       "   'CS 139',\n",
       "   'CS 143',\n",
       "   'CS 146',\n",
       "   'CS 147',\n",
       "   'CS 150',\n",
       "   'CS 160',\n",
       "   'CS 161',\n",
       "   'CS 165',\n",
       "   'CS 167',\n",
       "   'CS 172',\n",
       "   'CS 178',\n",
       "   'CS 195',\n",
       "   'IS 145',\n",
       "   'IS 150',\n",
       "   'IS 160',\n",
       "   'MATH 150',\n",
       "   'MATH 165',\n",
       "   'MATH 139']}]"
      ]
     },
     "execution_count": 8,
     "metadata": {},
     "output_type": "execute_result"
    }
   ],
   "source": [
    "cs_requirements_data = requests.get(cs_requirements_url).json()\n",
    "cs_requirements_data"
   ]
  },
  {
   "cell_type": "markdown",
   "id": "66e8c266",
   "metadata": {},
   "source": [
    "## Prerequisite Data\n",
    "\n",
    "This data is also a list of dictionaries. Each dictionary contains two keys:\n",
    "* `'course'` - this is the course/number for a real course at Drake\n",
    "* `'prerequisites'` - this is the list of courses that must be completed before a student can take the given course. This represents a simplified list that is relevant to most CS majors at Drake. However, the requirements are actually a little more complicated - for example, CS 167's requirements are (CS 065 AND (CS 066 OR STAT 40)). If you want to take a crack at data with more complicated prereqs, check out this URL instead: https://raw.githubusercontent.com/ericmanley/S24-CS143AI/main/data/prerequisites.json"
   ]
  },
  {
   "cell_type": "code",
   "execution_count": 9,
   "id": "d6b95b3b",
   "metadata": {},
   "outputs": [
    {
     "data": {
      "text/plain": [
       "[{'course': 'CS 066', 'prerequisites': ['CS 065']},\n",
       " {'course': 'CS 067', 'prerequisites': ['CS 066']},\n",
       " {'course': 'CS 116', 'prerequisites': ['CS 065']},\n",
       " {'course': 'CS 120', 'prerequisites': ['CS 065']},\n",
       " {'course': 'CS 128', 'prerequisites': ['CS 065', 'MATH 050']},\n",
       " {'course': 'CS 130', 'prerequisites': ['CS 066']},\n",
       " {'course': 'CS 135', 'prerequisites': ['CS 067']},\n",
       " {'course': 'CS 137', 'prerequisites': ['CS 067', 'MATH 050', 'MATH 054']},\n",
       " {'course': 'CS 139', 'prerequisites': ['CS 065', 'MATH 050', 'MATH 054']},\n",
       " {'course': 'CS 143', 'prerequisites': ['CS 066']},\n",
       " {'course': 'CS 147', 'prerequisites': ['CS 067']},\n",
       " {'course': 'CS 150', 'prerequisites': ['CS 065', 'MATH 101']},\n",
       " {'course': 'CS 160', 'prerequisites': ['CS 130']},\n",
       " {'course': 'CS 161', 'prerequisites': ['CS 130', 'CS 135']},\n",
       " {'course': 'CS 165', 'prerequisites': ['CS 065', 'MATH 080', 'MATH 100']},\n",
       " {'course': 'CS 167', 'prerequisites': ['CS 065', 'CS 066']},\n",
       " {'course': 'CS 172', 'prerequisites': ['CS 130']},\n",
       " {'course': 'CS 178', 'prerequisites': ['CS 066']},\n",
       " {'course': 'CS 188', 'prerequisites': ['CS 067']},\n",
       " {'course': 'CS 191', 'prerequisites': ['CS 188']}]"
      ]
     },
     "execution_count": 9,
     "metadata": {},
     "output_type": "execute_result"
    }
   ],
   "source": [
    "prerequisites_data = requests.get(prerequisites_url).json()\n",
    "prerequisites_data"
   ]
  },
  {
   "cell_type": "markdown",
   "id": "000c0011",
   "metadata": {},
   "source": [
    "## Group Discussions\n",
    "\n",
    "Plan for solving this problem by discussing the following:\n",
    "* What should the CSP **variables** be for this problem?\n",
    "* What should the **domains** be for those variables?\n",
    "* Describe, in english, some constraints that you think will be necessary to include. Can you write those in terms of the variables that you decided on?"
   ]
  },
  {
   "cell_type": "markdown",
   "id": "fc9df3c4",
   "metadata": {},
   "source": [
    "## How big do we want to make this project?\n",
    "\n",
    "The data I've given you is primarily for *CS Majors* at Drake. If you would prefer to do a different major, that would be awesome! Just create a new file like `cs_major_requirements.json` for the other major and that major's courses to a copy of `course_rotation.json` and `prerequisites.json`. **Send these files to me so I can share them on the GitHub repository.**\n",
    "\n",
    "There are many extensions that would be great to handle\n",
    "* multiple majors/minors for one student\n",
    "* AOIs\n",
    "* parse a student's degree evaluation report and output a customized plan for fulfilling the rest of their requirements"
   ]
  }
 ],
 "metadata": {
  "kernelspec": {
   "display_name": "Python 3 (ipykernel)",
   "language": "python",
   "name": "python3"
  },
  "language_info": {
   "codemirror_mode": {
    "name": "ipython",
    "version": 3
   },
   "file_extension": ".py",
   "mimetype": "text/x-python",
   "name": "python",
   "nbconvert_exporter": "python",
   "pygments_lexer": "ipython3",
   "version": "3.10.6"
  }
 },
 "nbformat": 4,
 "nbformat_minor": 5
}
