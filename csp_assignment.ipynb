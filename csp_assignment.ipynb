{
 "cells": [
  {
   "cell_type": "markdown",
   "id": "5568f836",
   "metadata": {},
   "source": [
    "# CSP Assignment\n",
    "\n",
    "[![Open In Colab](https://colab.research.google.com/assets/colab-badge.svg)](https://colab.research.google.com/github/ericmanley/S24-CS143AI/blob/main/csp_assignment.ipynb)\n",
    "\n",
    "For this assignment, implement the CSP described in the **CSP Planning for the Course Planning Problem** notebook using the `python-constraints` package.\n",
    "* Create a 4-year plan that shows which courses to take each semester, adhering to the course rotations in `course_rotation.json`\n",
    "* The courses should satisfy the CS Major requirements in `cs_major_requirements.json` (or you can use data for another major if you create the data and send it to me so I can share it)\n",
    "* The courses should satisfy all prerequisite requirements given in `prerequisites_simplified.json`\n",
    "* Have the solver produce at least one solution (this is a satisfiable problem, so it should be able to find a solution if you did it right)\n",
    "\n",
    "As a reminder - you will need to install these packages."
   ]
  },
  {
   "cell_type": "code",
   "execution_count": null,
   "id": "6f7a0e41",
   "metadata": {},
   "outputs": [],
   "source": [
    "import sys\n",
    "\n",
    "!{sys.executable} -m pip install python-constraint\n",
    "!{sys.executable} -m pip install requests"
   ]
  },
  {
   "cell_type": "markdown",
   "id": "b803859c",
   "metadata": {},
   "source": [
    "and here is how you can access the available data."
   ]
  },
  {
   "cell_type": "code",
   "execution_count": null,
   "id": "89b42993",
   "metadata": {},
   "outputs": [],
   "source": [
    "import requests\n",
    "import json\n",
    "\n",
    "course_rotation_url = 'https://raw.githubusercontent.com/ericmanley/S24-CS143AI/main/data/course_rotation.json'\n",
    "cs_requirements_url = 'https://raw.githubusercontent.com/ericmanley/S24-CS143AI/main/data/cs_major_requirements.json'\n",
    "prerequisites_url = 'https://raw.githubusercontent.com/ericmanley/S24-CS143AI/main/data/prerequisites_simplified.json'\n",
    "course_rotation_data = requests.get(course_rotation_url).json()\n",
    "cs_requirements_data = requests.get(cs_requirements_url).json()\n",
    "prerequisites_data = requests.get(prerequisites_url).json()"
   ]
  },
  {
   "cell_type": "markdown",
   "id": "48127af9",
   "metadata": {},
   "source": [
    "## Questions to respond to in a text/markdown cell\n",
    "\n",
    "* What did you choose for your CSP variables and domains?\n",
    "* What constraints did you need to include, and how did you handle that in your code?\n",
    "* What do you think of the solution(s) that the solve found? Does the solution seem good/usable to you?\n"
   ]
  },
  {
   "cell_type": "markdown",
   "id": "ec092880",
   "metadata": {},
   "source": [
    "\n",
    "## Grading\n",
    "\n",
    "The assignment will be worth 8 points.\n",
    "\n",
    "* You can get up to 4 points for turining in `python-constraint` code that we wrote in class and that you ran yourself.\n",
    "* You can get up to 6 points for progress towards a solution that includes both variables and constraints along with a written reflection on what you think the major issues are in getting it to work fully.\n",
    "* You can get up to 7 points if you have a working `python-constraint` implementation of the problem.\n",
    "* You can get up to 8 points if you have a working `python-constraint` implementation of the problem and it produces a correct solution and you answered all the required questions.\n",
    "\n",
    "\n",
    "## Extra Credit\n",
    "\n",
    "You can get up to 1 point of additional credit for doing any of the following (and you may earn multiple extra credit points in this way)\n",
    "* Allow the user to input a list of classes previously taken as well as the term they want to graduate and adjust the CSP to account for this\n",
    "* Include an additional set of requirements (like AOIs or a second major) - in this case you will need to create additional data to support it\n",
    "* Make this into an application that could be used by any student - provide a user-friendly interface, neatly present the output to them (no dictionaries, term codes, etc.)\n",
    "\n",
    "If you do any extra credit, make sure to explain what you did in your notebook and how many extra credit points you're claiming for it.\n",
    "\n",
    "\n",
    "## Turning it in\n",
    "\n",
    "You should submit your Jupyter Notebook to the handin form on Blackboard. You can either submit a link to a shared version of your notebook from Google Colab (make it sharable so that anyone with the link can view it) or you can directly attach the .ipynb file to the handin form.\n"
   ]
  }
 ],
 "metadata": {
  "kernelspec": {
   "display_name": "Python 3 (ipykernel)",
   "language": "python",
   "name": "python3"
  },
  "language_info": {
   "codemirror_mode": {
    "name": "ipython",
    "version": 3
   },
   "file_extension": ".py",
   "mimetype": "text/x-python",
   "name": "python",
   "nbconvert_exporter": "python",
   "pygments_lexer": "ipython3",
   "version": "3.10.6"
  }
 },
 "nbformat": 4,
 "nbformat_minor": 5
}
