{
 "cells": [
  {
   "cell_type": "markdown",
   "id": "12905268",
   "metadata": {},
   "source": [
    "# Constraint Satisfaction Problems in Python Lab\n",
    "\n",
    "[![Open In Colab](https://colab.research.google.com/assets/colab-badge.svg)](https://colab.research.google.com/github/ericmanley/S24-CS143AI/blob/main/csp_lab.ipynb)\n",
    "\n",
    "This lab shows you how to use the `python-constraint` package to formulate and solve your CSP problems in Python.\n",
    "\n",
    "First, you may need to install the package:"
   ]
  },
  {
   "cell_type": "code",
   "execution_count": null,
   "id": "0a125971",
   "metadata": {},
   "outputs": [],
   "source": [
    "import sys\n",
    "\n",
    "!{sys.executable} -m pip install python-constraint"
   ]
  },
  {
   "cell_type": "markdown",
   "id": "2e8a15db",
   "metadata": {},
   "source": [
    "## Sample CSP Problem Statement\n",
    "\n",
    "You are in charge of scheduling for computer science classes. There are 5 classes and 3 professors who will be teaching these classes. You are constrained by the fact that each professor can only teach one class at a time.\n",
    "\n",
    "**The classes are:**\n",
    "* Class 1 - Intro to Programming: meets from 8:00-9:00am\n",
    "* Class 2 - Intro to Artificial Intelligence: meets from 8:30-9:30am\n",
    "* Class 3 - Natural Language Processing: meets from 9:00-10:00am\n",
    "* Class 4 - Computer Vision: meets from 9:00-10:00am\n",
    "* Class 5 - Machine Learning: meets from 9:30-10:30am \n",
    "\n",
    "**The professors are:**\n",
    "* Professor A, who is available to teach Classes 3 and 4.\n",
    "* Professor B, who is available to teach Classes 2, 3, 4, and 5. \n",
    "* Professor C, who is available to teach Classes 1, 2, 3, 4, 5. "
   ]
  },
  {
   "cell_type": "markdown",
   "id": "7817e2e8",
   "metadata": {},
   "source": [
    "## Creating a `constraint` `Problem` instance\n",
    "\n",
    "Import the `Problem` class from the `constraint` module and create an instance of the class."
   ]
  },
  {
   "cell_type": "code",
   "execution_count": 1,
   "id": "5f3a9a75",
   "metadata": {},
   "outputs": [],
   "source": [
    "from constraint import Problem\n",
    "\n",
    "scheduling_problem = Problem()"
   ]
  },
  {
   "cell_type": "markdown",
   "id": "63a045d4",
   "metadata": {},
   "source": [
    "## Variables and Domains\n",
    "\n",
    "We want to assign a professor to each class, so we will create a **variable** for each class and add it to the problem with the `addVariable` method.\n",
    "\n",
    "A CSP variable is **not** the same thing as a variable in your program.\n",
    "\n",
    "The second parameter is the **domain** of that variable - all the different values it could have."
   ]
  },
  {
   "cell_type": "code",
   "execution_count": 2,
   "id": "39879981",
   "metadata": {},
   "outputs": [],
   "source": [
    "scheduling_problem.addVariable(\"Class 1\",[\"Professor C\"])\n",
    "scheduling_problem.addVariable(\"Class 2\",[\"Professor B\",\"Professor C\"])\n",
    "scheduling_problem.addVariable(\"Class 3\",[\"Professor A\",\"Professor B\",\"Professor C\"])\n",
    "scheduling_problem.addVariable(\"Class 4\",[\"Professor A\",\"Professor B\",\"Professor C\"])\n",
    "scheduling_problem.addVariable(\"Class 5\",[\"Professor B\",\"Professor C\"])"
   ]
  },
  {
   "cell_type": "markdown",
   "id": "e34bee25",
   "metadata": {},
   "source": [
    "## Constraints\n",
    "\n",
    "There is an `addConstraint` method for adding constraints to the problem. For this, you have to pass in the ***name* of a function** and the CSP variable that it applies to.\n",
    "\n",
    "Here is an example of a constraint function - it returns `True` or `False` based on whether the two inputs are the same."
   ]
  },
  {
   "cell_type": "code",
   "execution_count": 3,
   "id": "9a7456ab",
   "metadata": {},
   "outputs": [],
   "source": [
    "def not_equal_constraint(a, b):\n",
    "    return a != b"
   ]
  },
  {
   "cell_type": "markdown",
   "id": "6adaa79e",
   "metadata": {},
   "source": [
    "We can then use this with a constraint like this. Since **Class 1** and **Class 2** have overlapping times, we want to make sure that the CSP variables `\"Class 1\"`, `\"Class 2\"` get assigned different professors."
   ]
  },
  {
   "cell_type": "code",
   "execution_count": 4,
   "id": "39792296",
   "metadata": {},
   "outputs": [],
   "source": [
    "scheduling_problem.addConstraint(not_equal_constraint,[\"Class 1\",\"Class 2\"])"
   ]
  },
  {
   "cell_type": "markdown",
   "id": "bcaf48ee",
   "metadata": {},
   "source": [
    "During the solving process, this will make a call like `not_equal_constraint(\"Professor A\", \"Professor B\")` - it uses the **values** that it assigns to the `\"Class 1\"`, `\"Class 2\"` CSP variables."
   ]
  },
  {
   "cell_type": "markdown",
   "id": "e6103d3e",
   "metadata": {},
   "source": [
    "We can use the same function with another constraint. For example, since **Class 2** and **Class 3** have overlapping times:"
   ]
  },
  {
   "cell_type": "code",
   "execution_count": 5,
   "id": "ab35e841",
   "metadata": {},
   "outputs": [],
   "source": [
    "scheduling_problem.addConstraint(not_equal_constraint,[\"Class 2\",\"Class 3\"])"
   ]
  },
  {
   "cell_type": "markdown",
   "id": "9af381cc",
   "metadata": {},
   "source": [
    "### Exercise\n",
    "\n",
    "Add in the rest of the constraints for this problem."
   ]
  },
  {
   "cell_type": "code",
   "execution_count": null,
   "id": "4d0a0e53",
   "metadata": {},
   "outputs": [],
   "source": []
  },
  {
   "cell_type": "markdown",
   "id": "aecdb500",
   "metadata": {},
   "source": [
    "## Solving the CSP\n",
    "\n",
    "Once all of the variables and constraints have been added to the problem, you can run the solver by calling `getSolutions`"
   ]
  },
  {
   "cell_type": "code",
   "execution_count": null,
   "id": "c95d20a0",
   "metadata": {},
   "outputs": [],
   "source": [
    "solutions = scheduling_problem.getSolutions()\n",
    "\n",
    "solutions"
   ]
  },
  {
   "cell_type": "markdown",
   "id": "81824d2b",
   "metadata": {},
   "source": [
    "## Debugging your CSP\n",
    "\n",
    "Unfortunately `python-constraint` doesn't allow you to directly print what your CSP looks like, but I've had success with using the following functions to investigate the current state of a problem I'm setting up."
   ]
  },
  {
   "cell_type": "code",
   "execution_count": 6,
   "id": "0898a37f",
   "metadata": {},
   "outputs": [
    {
     "name": "stdout",
     "output_type": "stream",
     "text": [
      "Variable: Class 1, Domain: ['Professor C']\n",
      "Variable: Class 2, Domain: ['Professor B', 'Professor C']\n",
      "Variable: Class 3, Domain: ['Professor A', 'Professor B', 'Professor C']\n",
      "Variable: Class 4, Domain: ['Professor A', 'Professor B', 'Professor C']\n",
      "Variable: Class 5, Domain: ['Professor B', 'Professor C']\n",
      "Constraint Function: not_equal_constraint, Applied To: ['Class 1', 'Class 2']\n",
      "Constraint Function: not_equal_constraint, Applied To: ['Class 2', 'Class 3']\n"
     ]
    }
   ],
   "source": [
    "def print_variables(problem):\n",
    "    for v in problem._variables:\n",
    "        print(f\"Variable: {v}, Domain: {problem._variables[v]}\")\n",
    "        \n",
    "def print_constraints(problem):\n",
    "    for constraint in problem._constraints:\n",
    "        print(f\"Constraint Function: {constraint[0]._func.__name__}, Applied To: {constraint[1]}\")\n",
    "\n",
    "print_variables(scheduling_problem)\n",
    "print_constraints(scheduling_problem)\n"
   ]
  },
  {
   "cell_type": "markdown",
   "id": "a65a78b6",
   "metadata": {},
   "source": [
    "## Making it more general\n",
    "\n",
    "If you're solving a problem like this, you will probably need to do it again, so we want to write code that can generate problems like this automatically. Let's say we have data like this"
   ]
  },
  {
   "cell_type": "code",
   "execution_count": 7,
   "id": "ada1fc65",
   "metadata": {},
   "outputs": [],
   "source": [
    "class_times = {\n",
    "    \"Class 1\" : (800,900),\n",
    "    \"Class 2\" : (830,930),\n",
    "    \"Class 3\" : (900,1000),\n",
    "    \"Class 4\" : (900,1000),\n",
    "    \"Class 5\" : (930,1030)\n",
    "}\n",
    "\n",
    "professor_availability = {\n",
    "    \"Professor A\" : [\"Class 3\",\"Class 4\"],\n",
    "    \"Professor B\" : [\"Class 2\",\"Class 3\", \"Class 4\", \"Class 5\"],\n",
    "    \"Professor C\" : [\"Class 1\",\"Class 2\",\"Class 3\", \"Class 4\", \"Class 5\"]\n",
    "}"
   ]
  },
  {
   "cell_type": "markdown",
   "id": "03201e2c",
   "metadata": {},
   "source": [
    "### Exercise\n",
    "\n",
    "I suggest you first loop through `class_times` and `professor_availability` and create a new dictionary that uses the classes as keys like this\n",
    "\n",
    "```\n",
    "{'Class 1': ['Professor C'],\n",
    " 'Class 2': ['Professor B', 'Professor C'],\n",
    " 'Class 3': ['Professor A', 'Professor B', 'Professor C'],\n",
    " 'Class 4': ['Professor A', 'Professor B', 'Professor C'],\n",
    " 'Class 5': ['Professor B', 'Professor C']}\n",
    " ```\n",
    " \n",
    "*If you need a hint:* the solution to this exercise is shown in a mixed-up form here - see if you can piece it together by dragging the lines into the solution tray (make sure to drag to the proper indentation): https://parsons.problemsolving.io/puzzle/d3c1ddcdafcc46e8803167db525169de"
   ]
  },
  {
   "cell_type": "code",
   "execution_count": null,
   "id": "b2e3e0f2",
   "metadata": {},
   "outputs": [],
   "source": []
  },
  {
   "cell_type": "markdown",
   "id": "d6ef0df0",
   "metadata": {},
   "source": [
    "### Exercise\n",
    "\n",
    "Loop through the dicionary you created in the previous problem and call `sp2.addVariable()` for each of the entries.\n",
    "\n",
    "*if you need a hint:* the solution is here as a programming puzzle, but for this one, not all of the lines on the left should go into the solution tray: https://parsons.problemsolving.io/puzzle/4706899605524e1eb083d3723b3f45c5"
   ]
  },
  {
   "cell_type": "code",
   "execution_count": 15,
   "id": "405f9d75",
   "metadata": {},
   "outputs": [],
   "source": [
    "sp2 = Problem()\n",
    "\n",
    "# your code here"
   ]
  },
  {
   "cell_type": "markdown",
   "id": "de4b34ba",
   "metadata": {},
   "source": [
    "### Exercise\n",
    "\n",
    "Write a nested loop that goes through each possible pair of classes. If those two classes have times that overlap, add a `not_equal_constraint` for them.\n",
    "\n",
    "*if you need a hint:* Here's another puzzle with one possible solution that defines a helper function called `times_overlap` (though there are many other good solutions): https://parsons.problemsolving.io/puzzle/661ab5e6335d4458961d33a9f8dbc71a (there are some lines in this solution that could be swapped and still be correct, but the puzzle will only think there's one solution - if you figure one out that it doesn't accept, don't worry about making the app think you're right)"
   ]
  },
  {
   "cell_type": "code",
   "execution_count": null,
   "id": "4c268117",
   "metadata": {},
   "outputs": [],
   "source": []
  },
  {
   "cell_type": "markdown",
   "id": "8cb2c7b5",
   "metadata": {},
   "source": [
    "When you have the exercises done, have it solve the problem and see if you get the same solution as above."
   ]
  },
  {
   "cell_type": "code",
   "execution_count": null,
   "id": "edd9850b",
   "metadata": {},
   "outputs": [],
   "source": [
    "sp2sol = sp2.getSolutions()\n",
    "\n",
    "print(sp2sol)"
   ]
  },
  {
   "cell_type": "markdown",
   "id": "b44593bf",
   "metadata": {},
   "source": []
  },
  {
   "cell_type": "markdown",
   "id": "132facb6",
   "metadata": {},
   "source": [
    "## Python Programming Digression\n",
    "\n",
    "When defining a function, you can use a `*` in front of a parameter name to allow that function to take in *any number of arguments*.\n",
    "\n"
   ]
  },
  {
   "cell_type": "code",
   "execution_count": 16,
   "id": "9406201d",
   "metadata": {},
   "outputs": [],
   "source": [
    "def add_em_up(*args):\n",
    "    total = 0\n",
    "    for a in args:\n",
    "        total += a\n",
    "    return total"
   ]
  },
  {
   "cell_type": "code",
   "execution_count": 17,
   "id": "5925e22d",
   "metadata": {},
   "outputs": [
    {
     "data": {
      "text/plain": [
       "36"
      ]
     },
     "execution_count": 17,
     "metadata": {},
     "output_type": "execute_result"
    }
   ],
   "source": [
    "add_em_up(1,2,3,4,5,6,7,8)"
   ]
  },
  {
   "cell_type": "code",
   "execution_count": 18,
   "id": "26ac5b6e",
   "metadata": {},
   "outputs": [
    {
     "data": {
      "text/plain": [
       "9"
      ]
     },
     "execution_count": 18,
     "metadata": {},
     "output_type": "execute_result"
    }
   ],
   "source": [
    "add_em_up(4,5)"
   ]
  },
  {
   "cell_type": "markdown",
   "id": "9ea94942",
   "metadata": {},
   "source": [
    "## Constraints that might need `*args` functions\n",
    "\n",
    "It is sometimes useful to define a constraint function so you could pass it an arbitrary number of variables like if we had a rule like \"a professor can teach at most three classes\", you could make a function like this:"
   ]
  },
  {
   "cell_type": "code",
   "execution_count": 19,
   "id": "934a9e36",
   "metadata": {},
   "outputs": [],
   "source": [
    "def max_three_classes(*args):\n",
    "    professor_class_count = {}\n",
    "    for a in args:\n",
    "        if a not in professor_class_count:\n",
    "            professor_class_count[a] = 1\n",
    "        else:\n",
    "            professor_class_count[a] += 1\n",
    "            \n",
    "    print(\"Debugging message: Here's what professor_class_count looks like\",professor_class_count)\n",
    "    \n",
    "    # check the number of classes for each professor\n",
    "    for p in professor_class_count:\n",
    "        # if some professor is assigned more than 3 classes, return False - this constraint is not satisfied\n",
    "        if professor_class_count[p] > 3:\n",
    "            return False\n",
    "    \n",
    "    # if we don't return False for one of the professors, it means they all have <= 3 classes\n",
    "    return True \n",
    "\n"
   ]
  },
  {
   "cell_type": "code",
   "execution_count": 20,
   "id": "4d284916",
   "metadata": {},
   "outputs": [
    {
     "name": "stdout",
     "output_type": "stream",
     "text": [
      "Debugging message: Here's what professor_class_count looks like {'Professor A': 4, 'Professor B': 1, 'Professor C': 2}\n",
      "False\n"
     ]
    }
   ],
   "source": [
    "print( max_three_classes(\"Professor A\",\"Professor B\",\"Professor A\",\"Professor A\",\"Professor C\",\"Professor C\",\"Professor A\"))"
   ]
  },
  {
   "cell_type": "code",
   "execution_count": 21,
   "id": "73d2e9f2",
   "metadata": {},
   "outputs": [
    {
     "name": "stdout",
     "output_type": "stream",
     "text": [
      "Debugging message: Here's what professor_class_count looks like {'Professor A': 3, 'Professor B': 1, 'Professor C': 3}\n",
      "True\n"
     ]
    }
   ],
   "source": [
    "print( max_three_classes(\"Professor A\",\"Professor B\",\"Professor A\",\"Professor A\",\"Professor C\",\"Professor C\",\"Professor C\"))"
   ]
  },
  {
   "cell_type": "markdown",
   "id": "f95a4b6e",
   "metadata": {},
   "source": [
    "This could be used with a constraint like"
   ]
  },
  {
   "cell_type": "code",
   "execution_count": 22,
   "id": "a5cd6af8",
   "metadata": {},
   "outputs": [
    {
     "name": "stdout",
     "output_type": "stream",
     "text": [
      "dict_keys(['Class 1', 'Class 2', 'Class 3', 'Class 4', 'Class 5'])\n"
     ]
    }
   ],
   "source": [
    "# class_times.keys() is a list of all the classes - remember these get assigned a Professor name\n",
    "print(class_times.keys())\n",
    "sp2.addConstraint(max_three_classes,class_times.keys())"
   ]
  }
 ],
 "metadata": {
  "kernelspec": {
   "display_name": "Python 3 (ipykernel)",
   "language": "python",
   "name": "python3"
  },
  "language_info": {
   "codemirror_mode": {
    "name": "ipython",
    "version": 3
   },
   "file_extension": ".py",
   "mimetype": "text/x-python",
   "name": "python",
   "nbconvert_exporter": "python",
   "pygments_lexer": "ipython3",
   "version": "3.10.6"
  }
 },
 "nbformat": 4,
 "nbformat_minor": 5
}
